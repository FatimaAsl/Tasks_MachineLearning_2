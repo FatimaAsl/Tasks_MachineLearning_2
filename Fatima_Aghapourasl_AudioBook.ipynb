{
 "cells": [
  {
   "cell_type": "markdown",
   "metadata": {},
   "source": [
    "# Create an Audiobook from a PDF\n",
    "## This task tests your ability to apply Text to Speech conversion and Extraction of Text from PDF files in the creation of an audiobook from a PDF file"
   ]
  },
  {
   "cell_type": "markdown",
   "metadata": {},
   "source": [
    "### Steps\n",
    "- Extract text from PDF file\n",
    "- Clean the text\n",
    "- Convert the text into speech\n",
    "- Save the speech\n",
    "- Play the speech"
   ]
  },
  {
   "cell_type": "markdown",
   "metadata": {},
   "source": [
    "## 1. Extract text from PDF\n",
    "- Use PyPDF2"
   ]
  },
  {
   "cell_type": "markdown",
   "metadata": {},
   "source": [
    "### Install the library"
   ]
  },
  {
   "cell_type": "code",
   "execution_count": 1,
   "metadata": {},
   "outputs": [
    {
     "name": "stdout",
     "output_type": "stream",
     "text": [
      "Requirement already satisfied: PyPDF2 in /Users/yasameen/anaconda3/lib/python3.11/site-packages (3.0.1)\r\n"
     ]
    }
   ],
   "source": [
    "# ! pip install PyPDF2\n",
    "#!pip install PyPDF2"
   ]
  },
  {
   "cell_type": "markdown",
   "metadata": {},
   "source": [
    "### Import the library"
   ]
  },
  {
   "cell_type": "code",
   "execution_count": 1,
   "metadata": {},
   "outputs": [],
   "source": [
    "from PyPDF2 import PdfReader"
   ]
  },
  {
   "cell_type": "markdown",
   "metadata": {},
   "source": [
    "### Extract the text"
   ]
  },
  {
   "cell_type": "code",
   "execution_count": 2,
   "metadata": {},
   "outputs": [],
   "source": [
    "pdfFileObj = open('sample-pdf-file.pdf', 'rb')\n",
    "pdfReader = PdfReader(pdfFileObj)\n",
    "num_pages = len(pdfReader.pages)\n",
    "\n",
    "# Initialize a variable to hold all the extracted text\n",
    "text_content = ''\n",
    "\n",
    "# Loop through all the pages and extract text\n",
    "for i in range(num_pages):\n",
    "    text_content += pdfReader.pages[i].extract_text()\n",
    "\n",
    "pdfFileObj.close()"
   ]
  },
  {
   "cell_type": "markdown",
   "metadata": {},
   "source": [
    "### Print the extracted text"
   ]
  },
  {
   "cell_type": "code",
   "execution_count": 3,
   "metadata": {},
   "outputs": [
    {
     "name": "stdout",
     "output_type": "stream",
     "text": [
      "Lorem Ipsum  is simply dummy text of the printing and typesetting industry. Lorem Ipsum has been \n",
      "the industry's standard dummy text ever since the 1500s, when an unknown printer took a galley of \n",
      "type and scrambled it to make a type specimen book. It has survived not only five centuries, but also \n",
      "the leap into electronic typesetting, remaining essentially unchanged. It was popularised in the \n",
      "1960s with the release of Letraset sheets containing Lorem Ipsum passages, and more recently with \n",
      "desktop publishing  software like Aldus PageMaker including versions of Lorem Ipsum.  \n",
      " \n",
      "Lorem Ipsum  is simply dummy text of the printing and typesetting industry. Lorem Ipsum has been \n",
      "the industry's standard dummy text ever since the 1500s, when an unknown printer took a galle y of \n",
      "type and scrambled it to make a type specimen book. It has survived not only five centuries, but also \n",
      "the leap into electronic typesetting, remaining essentially unchanged. It was popularised in the \n",
      "1960s with the release of Letraset sheets containing  Lorem Ipsum passages, and more recently with \n",
      "desktop publishing software like Aldus PageMaker including versions of Lorem Ipsum.  \n",
      " \n",
      "Lorem Ipsum  is simply dummy text of the printing and typesetting industry. Lorem Ipsum has been \n",
      "the industry's standard dummy  text ever since the 1500s, when an unknown printer took a galley of \n",
      "type and scrambled it to make a type specimen book. It has survived not only five centuries, but also \n",
      "the leap into electronic typesetting, remaining essentially unchanged. It was popular ised in the \n",
      "1960s with the release of Letraset sheets containing Lorem Ipsum passages, and more recently with \n",
      "desktop publishing software like Aldus PageMaker including versions of Lorem Ipsum.  \n",
      " \n",
      "Lorem Ipsum  is simply dummy text of the printing and typesett ing industry. Lorem Ipsum has been \n",
      "the industry's standard dummy text ever since the 1500s, when an unknown printer took a galley of \n",
      "type and scrambled it to make a type specimen book. It has survived not only five centuries, but also \n",
      "the leap into electro nic typesetting, remaining essentially unchanged. It was popularised in the \n",
      "1960s with the release of Letraset sheets containing Lorem Ipsum passages, and more recently with \n",
      "desktop publishing software like Aldus PageMaker including versions of Lorem Ipsum . \n",
      " \n",
      "Lorem Ipsum  is simply dummy text of the printing and typesetting industry. Lorem Ipsum has been \n",
      "the industry's standard dummy text ever since the 1500s, when an unknown printer took a galley of \n",
      "type and scrambled it to make a type specimen book. It has survived not only five centuries, but also \n",
      "the leap into electronic typesetting, remaining essentially unchanged. It was popularised in the \n",
      "1960s with the release of Letraset sheets containing Lorem Ipsum passages, and more recently with \n",
      "desktop publishing  software like Aldus PageMaker including versions of Lorem Ipsum.  \n",
      " \n",
      "Lorem Ipsum  is simply dummy text of the printing and typesetting industry. Lorem Ipsum has been \n",
      "the industry's standard dummy text ever since the 1500s, when an unknown printer took a galle y of \n",
      "type and scrambled it to make a type specimen book. It has survived not only five centuries, but also \n",
      "the leap into electronic typesetting, remaining essentially unchanged. It was popularised in the \n",
      "1960s with the release of Letraset sheets containing  Lorem Ipsum passages, and more recently with \n",
      "desktop publishing software like Aldus PageMaker including versions of Lorem Ipsum.  \n",
      " \n"
     ]
    }
   ],
   "source": [
    "print(text_content)"
   ]
  },
  {
   "cell_type": "markdown",
   "metadata": {},
   "source": [
    "## 2. Convert the Text into Speech\n",
    "- Use **pyttsx3** OR **gTTS**"
   ]
  },
  {
   "cell_type": "markdown",
   "metadata": {},
   "source": [
    "### Install the library"
   ]
  },
  {
   "cell_type": "code",
   "execution_count": 4,
   "metadata": {},
   "outputs": [],
   "source": [
    "# !pip install pyttsx3\n",
    "#!pip install gTTS"
   ]
  },
  {
   "cell_type": "markdown",
   "metadata": {},
   "source": [
    "### Import the library"
   ]
  },
  {
   "cell_type": "code",
   "execution_count": 5,
   "metadata": {},
   "outputs": [],
   "source": [
    "from gtts import gTTS"
   ]
  },
  {
   "cell_type": "markdown",
   "metadata": {},
   "source": [
    "### Convert the text"
   ]
  },
  {
   "cell_type": "code",
   "execution_count": 6,
   "metadata": {},
   "outputs": [],
   "source": [
    "tts = gTTS(text_content, lang='en')"
   ]
  },
  {
   "cell_type": "markdown",
   "metadata": {},
   "source": [
    "### Save the audio"
   ]
  },
  {
   "cell_type": "code",
   "execution_count": 7,
   "metadata": {},
   "outputs": [],
   "source": [
    "tts.save('output_audio.mp3')"
   ]
  },
  {
   "cell_type": "code",
   "execution_count": null,
   "metadata": {},
   "outputs": [],
   "source": []
  }
 ],
 "metadata": {
  "kernelspec": {
   "display_name": "Python 3 (ipykernel)",
   "language": "python",
   "name": "python3"
  },
  "language_info": {
   "codemirror_mode": {
    "name": "ipython",
    "version": 3
   },
   "file_extension": ".py",
   "mimetype": "text/x-python",
   "name": "python",
   "nbconvert_exporter": "python",
   "pygments_lexer": "ipython3",
   "version": "3.11.4"
  }
 },
 "nbformat": 4,
 "nbformat_minor": 4
}
